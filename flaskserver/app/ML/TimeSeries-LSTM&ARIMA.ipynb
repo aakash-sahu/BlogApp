{
 "cells": [
  {
   "cell_type": "code",
   "execution_count": 4,
   "metadata": {},
   "outputs": [],
   "source": [
    "import torch\n",
    "import torch.nn as nn\n",
    "import pandas as pd\n",
    "import numpy as np\n",
    "import seaborn as sns\n",
    "from sklearn.preprocessing import StandardScaler"
   ]
  },
  {
   "cell_type": "code",
   "execution_count": 5,
   "metadata": {},
   "outputs": [
    {
     "name": "stdout",
     "output_type": "stream",
     "text": [
      "(252, 7)\n"
     ]
    },
    {
     "data": {
      "text/html": [
       "<div>\n",
       "<style scoped>\n",
       "    .dataframe tbody tr th:only-of-type {\n",
       "        vertical-align: middle;\n",
       "    }\n",
       "\n",
       "    .dataframe tbody tr th {\n",
       "        vertical-align: top;\n",
       "    }\n",
       "\n",
       "    .dataframe thead th {\n",
       "        text-align: right;\n",
       "    }\n",
       "</style>\n",
       "<table border=\"1\" class=\"dataframe\">\n",
       "  <thead>\n",
       "    <tr style=\"text-align: right;\">\n",
       "      <th></th>\n",
       "      <th>Date</th>\n",
       "      <th>Open</th>\n",
       "      <th>High</th>\n",
       "      <th>Low</th>\n",
       "      <th>Close</th>\n",
       "      <th>Adj Close</th>\n",
       "      <th>Volume</th>\n",
       "    </tr>\n",
       "  </thead>\n",
       "  <tbody>\n",
       "    <tr>\n",
       "      <th>0</th>\n",
       "      <td>2019-07-08</td>\n",
       "      <td>43.590000</td>\n",
       "      <td>43.959999</td>\n",
       "      <td>43.290001</td>\n",
       "      <td>43.490002</td>\n",
       "      <td>42.180561</td>\n",
       "      <td>7060200</td>\n",
       "    </tr>\n",
       "    <tr>\n",
       "      <th>1</th>\n",
       "      <td>2019-07-09</td>\n",
       "      <td>43.080002</td>\n",
       "      <td>43.869999</td>\n",
       "      <td>43.020000</td>\n",
       "      <td>43.779999</td>\n",
       "      <td>42.461830</td>\n",
       "      <td>5941900</td>\n",
       "    </tr>\n",
       "  </tbody>\n",
       "</table>\n",
       "</div>"
      ],
      "text/plain": [
       "         Date       Open       High        Low      Close  Adj Close   Volume\n",
       "0  2019-07-08  43.590000  43.959999  43.290001  43.490002  42.180561  7060200\n",
       "1  2019-07-09  43.080002  43.869999  43.020000  43.779999  42.461830  5941900"
      ]
     },
     "execution_count": 5,
     "metadata": {},
     "output_type": "execute_result"
    }
   ],
   "source": [
    "df = pd.read_csv('MS.csv')\n",
    "print(df.shape)\n",
    "df.head(2)"
   ]
  },
  {
   "cell_type": "code",
   "execution_count": 6,
   "metadata": {},
   "outputs": [
    {
     "data": {
      "text/plain": [
       "array([43.490002, 43.779999, 43.310001, 44.18    , 44.869999])"
      ]
     },
     "execution_count": 6,
     "metadata": {},
     "output_type": "execute_result"
    }
   ],
   "source": [
    "close_price = df['Close'].values\n",
    "close_price[:5]"
   ]
  },
  {
   "cell_type": "code",
   "execution_count": 7,
   "metadata": {},
   "outputs": [
    {
     "data": {
      "text/plain": [
       "<matplotlib.axes._subplots.AxesSubplot at 0x212ec8f7e80>"
      ]
     },
     "execution_count": 7,
     "metadata": {},
     "output_type": "execute_result"
    },
    {
     "data": {
      "image/png": "[encoded data removed]",
      "text/plain": [
       "<Figure size 432x288 with 1 Axes>"
      ]
     },
     "metadata": {
      "needs_background": "light"
     },
     "output_type": "display_data"
    }
   ],
   "source": [
    "df.Close.plot()"
   ]
  },
  {
   "cell_type": "code",
   "execution_count": 8,
   "metadata": {},
   "outputs": [
    {
     "name": "stdout",
     "output_type": "stream",
     "text": [
      "(222,) (30,)\n"
     ]
    },
    {
     "data": {
      "text/plain": [
       "array([43.490002, 43.779999, 43.310001, 44.18    , 44.869999])"
      ]
     },
     "execution_count": 8,
     "metadata": {},
     "output_type": "execute_result"
    }
   ],
   "source": [
    "train_data = close_price[:222]\n",
    "test_data = close_price[222:]\n",
    "print(train_data.shape, test_data.shape)\n",
    "train_data[:5]"
   ]
  },
  {
   "cell_type": "code",
   "execution_count": 12,
   "metadata": {},
   "outputs": [
    {
     "data": {
      "text/plain": [
       "array([[-0.16762906],\n",
       "       [-0.12130209],\n",
       "       [-0.19638419],\n",
       "       [-0.05740201],\n",
       "       [ 0.05282521]])"
      ]
     },
     "execution_count": 12,
     "metadata": {},
     "output_type": "execute_result"
    }
   ],
   "source": [
    "scaler = StandardScaler()\n",
    "train_data_norm = scaler.fit_transform(train_data.reshape(-1,1))\n",
    "train_data_norm[:5]"
   ]
  },
  {
   "cell_type": "code",
   "execution_count": 11,
   "metadata": {},
   "outputs": [
    {
     "data": {
      "text/plain": [
       "tensor([-0.1676, -0.1213, -0.1964, -0.0574,  0.0528])"
      ]
     },
     "execution_count": 11,
     "metadata": {},
     "output_type": "execute_result"
    }
   ],
   "source": [
    "train_data_norm_lstm = torch.FloatTensor(train_data_norm_lstm).view(-1)\n",
    "train_data_norm[:5]"
   ]
  },
  {
   "cell_type": "code",
   "execution_count": 67,
   "metadata": {},
   "outputs": [],
   "source": [
    "seq_length = 30\n",
    "\n",
    "def get_in_out_sequence(input_data, seq_len):\n",
    "    in_out_seq = []\n",
    "    len_input = len(input_data)\n",
    "    for i in range(len_input-seq_len):\n",
    "        train_seq = input_data[i:i+seq_len]\n",
    "        train_label = input_data[i+seq_len:i+seq_len+1]\n",
    "        in_out_seq.append((train_seq, train_label))\n",
    "    return in_out_seq"
   ]
  },
  {
   "cell_type": "code",
   "execution_count": 68,
   "metadata": {},
   "outputs": [
    {
     "data": {
      "text/plain": [
       "[(tensor([-0.1676, -0.1213, -0.1964, -0.0574,  0.0528, -0.0175, -0.0175, -0.1229,\n",
       "          -0.0175, -0.0239, -0.0063,  0.0896,  0.1535,  0.0528,  0.1918,  0.1103,\n",
       "           0.0209,  0.0033, -0.2571, -0.3865, -0.6469, -0.5303, -0.6357, -0.5223,\n",
       "          -0.4855, -0.6676, -0.6149, -0.8322, -0.8689, -0.7347]),\n",
       "  tensor([-0.6660])),\n",
       " (tensor([-0.1213, -0.1964, -0.0574,  0.0528, -0.0175, -0.0175, -0.1229, -0.0175,\n",
       "          -0.0239, -0.0063,  0.0896,  0.1535,  0.0528,  0.1918,  0.1103,  0.0209,\n",
       "           0.0033, -0.2571, -0.3865, -0.6469, -0.5303, -0.6357, -0.5223, -0.4855,\n",
       "          -0.6676, -0.6149, -0.8322, -0.8689, -0.7347, -0.6660]),\n",
       "  tensor([-0.7411])),\n",
       " (tensor([-0.1964, -0.0574,  0.0528, -0.0175, -0.0175, -0.1229, -0.0175, -0.0239,\n",
       "          -0.0063,  0.0896,  0.1535,  0.0528,  0.1918,  0.1103,  0.0209,  0.0033,\n",
       "          -0.2571, -0.3865, -0.6469, -0.5303, -0.6357, -0.5223, -0.4855, -0.6676,\n",
       "          -0.6149, -0.8322, -0.8689, -0.7347, -0.6660, -0.7411]),\n",
       "  tensor([-0.7347]))]"
      ]
     },
     "execution_count": 68,
     "metadata": {},
     "output_type": "execute_result"
    }
   ],
   "source": [
    "train_inout_seq = get_in_out_sequence(train_tensor, seq_length)\n",
    "train_inout_seq[:3]"
   ]
  },
  {
   "cell_type": "code",
   "execution_count": 104,
   "metadata": {},
   "outputs": [],
   "source": [
    "class TS_LSTM(nn.Module):\n",
    "    def __init__(self, input_size=1, hidden_layer_size=100, output_size=1):\n",
    "        super().__init__()\n",
    "        self.hidden_layer_size = hidden_layer_size\n",
    "        self.lstm = nn.LSTM(input_size, hidden_layer_size)\n",
    "        self.linear = nn.Linear(hidden_layer_size, output_size)\n",
    "        \n",
    "        self.hidden_cell = (torch.zeros(1,1, self.hidden_layer_size),\n",
    "                           torch.zeros(1,1,self.hidden_layer_size))\n",
    "        \n",
    "    def forward(self, input_seq):\n",
    "        lstm_out, self.hidden_cell = self.lstm(input_seq.view(len(input_seq), 1, -1), self.hidden_cell)\n",
    "        predictions = self.linear(lstm_out.view(len(input_seq), -1))\n",
    "        return predictions[-1]"
   ]
  },
  {
   "cell_type": "code",
   "execution_count": 105,
   "metadata": {},
   "outputs": [
    {
     "name": "stdout",
     "output_type": "stream",
     "text": [
      "TS_LSTM(\n",
      "  (lstm): LSTM(1, 100)\n",
      "  (linear): Linear(in_features=100, out_features=1, bias=True)\n",
      ")\n"
     ]
    }
   ],
   "source": [
    "model = TS_LSTM()\n",
    "loss_function = nn.MSELoss()\n",
    "optimizer = torch.optim.Adam(model.parameters(), lr=0.01)\n",
    "print(model)"
   ]
  },
  {
   "cell_type": "code",
   "execution_count": 106,
   "metadata": {},
   "outputs": [
    {
     "name": "stdout",
     "output_type": "stream",
     "text": [
      "epoch:   1 loss: 0.03658075\n",
      "epoch:  26 loss: 0.00002508\n",
      "epoch:  51 loss: 0.00024543\n",
      "epoch:  76 loss: 0.00236123\n",
      "epoch:  99 loss: 0.0022042338\n"
     ]
    }
   ],
   "source": [
    "epochs = 100\n",
    "for i in range(epochs):\n",
    "    for seq, labels in train_inout_seq:\n",
    "        optimizer.zero_grad()\n",
    "        model.hidden_cell = (torch.zeros(1, 1, model.hidden_layer_size),\n",
    "                        torch.zeros(1, 1, model.hidden_layer_size))\n",
    "        \n",
    "        y_pred = model(seq)\n",
    "        \n",
    "        single_loss = loss_function(y_pred, labels)\n",
    "        single_loss.backward()\n",
    "        optimizer.step()\n",
    "        \n",
    "    if i%25 == 1:\n",
    "        print(f'epoch: {i:3} loss: {single_loss.item():10.8f}')\n",
    "print(f'epoch: {i:3} loss: {single_loss.item():10.10f}')"
   ]
  },
  {
   "cell_type": "code",
   "execution_count": 107,
   "metadata": {},
   "outputs": [
    {
     "name": "stdout",
     "output_type": "stream",
     "text": [
      "30\n"
     ]
    },
    {
     "data": {
      "text/plain": [
       "tensor([-0.1676, -0.1213])"
      ]
     },
     "execution_count": 107,
     "metadata": {},
     "output_type": "execute_result"
    }
   ],
   "source": [
    "fut_pred = 30\n",
    "\n",
    "test_input = train_data_norm[-seq_length:].tolist()\n",
    "print(len(test_input))\n",
    "train_data_norm[:2]"
   ]
  },
  {
   "cell_type": "code",
   "execution_count": 108,
   "metadata": {},
   "outputs": [],
   "source": [
    "model.eval()\n",
    "\n",
    "for i in range(fut_pred):\n",
    "    seq = torch.FloatTensor(test_input[-seq_length:])\n",
    "    with torch.no_grad():\n",
    "        model.hidden = (torch.zeros(1, 1, model.hidden_layer_size),\n",
    "                        torch.zeros(1, 1, model.hidden_layer_size))\n",
    "        test_input.append(model(seq).item())"
   ]
  },
  {
   "cell_type": "code",
   "execution_count": 109,
   "metadata": {},
   "outputs": [
    {
     "data": {
      "text/plain": [
       "60"
      ]
     },
     "execution_count": 109,
     "metadata": {},
     "output_type": "execute_result"
    }
   ],
   "source": [
    "len(test_input)\n",
    "# del test_input"
   ]
  },
  {
   "cell_type": "code",
   "execution_count": 110,
   "metadata": {},
   "outputs": [
    {
     "name": "stdout",
     "output_type": "stream",
     "text": [
      "30\n"
     ]
    },
    {
     "data": {
      "text/plain": [
       "array([40.57424724, 40.97804296, 41.858704  , 43.08663273])"
      ]
     },
     "execution_count": 110,
     "metadata": {},
     "output_type": "execute_result"
    }
   ],
   "source": [
    "actual_pred = scaler.inverse_transform(np.array(test_input[seq_length:]))\n",
    "print(len(actual_pred))\n",
    "actual_pred[:4]"
   ]
  },
  {
   "cell_type": "code",
   "execution_count": 119,
   "metadata": {},
   "outputs": [
    {
     "data": {
      "text/plain": [
       "<matplotlib.axes._subplots.AxesSubplot at 0x21891260898>"
      ]
     },
     "execution_count": 119,
     "metadata": {},
     "output_type": "execute_result"
    },
    {
     "data": {
      "image/png": "[encoded data removed]",
      "text/plain": [
       "<Figure size 432x288 with 1 Axes>"
      ]
     },
     "metadata": {
      "needs_background": "light"
     },
     "output_type": "display_data"
    }
   ],
   "source": [
    "pd.Series(close_price).plot()\n",
    "pd.Series(actual_pred,np.arange(len(train_data),len(close_price),1)).plot()"
   ]
  },
  {
   "cell_type": "code",
   "execution_count": 103,
   "metadata": {},
   "outputs": [
    {
     "data": {
      "text/plain": [
       "array([47.240002, 48.299999, 47.610001, 47.790001, 48.82    ])"
      ]
     },
     "execution_count": 103,
     "metadata": {},
     "output_type": "execute_result"
    }
   ],
   "source": [
    "close_price[-5:]"
   ]
  },
  {
   "cell_type": "code",
   "execution_count": 131,
   "metadata": {},
   "outputs": [
    {
     "name": "stdout",
     "output_type": "stream",
     "text": [
      "tensor([[-0.6251,  0.4428, -2.0293]])\n",
      "tensor([[ 0.5338, -1.4102, -0.0755]])\n",
      "tensor([[0.0808, 0.1651, 0.0108]])\n",
      "tensor([[ 1.1662, -0.4886, -0.8625]])\n",
      "tensor([[0.9688, 0.1675, 0.4591]])\n"
     ]
    }
   ],
   "source": [
    "inputs =[torch.randn(1, 3) for _ in range(5)]\n",
    "for i in inputs:\n",
    "    print(i)"
   ]
  },
  {
   "cell_type": "code",
   "execution_count": 127,
   "metadata": {},
   "outputs": [
    {
     "data": {
      "text/plain": [
       "(tensor([[[0.5501, 1.3777, 2.0261]]]), tensor([[[-0.4853, -1.9215, -1.2074]]]))"
      ]
     },
     "execution_count": 127,
     "metadata": {},
     "output_type": "execute_result"
    }
   ],
   "source": [
    "(torch.randn(1, 1, 3),\n",
    "          torch.randn(1, 1, 3))"
   ]
  },
  {
   "cell_type": "code",
   "execution_count": 130,
   "metadata": {},
   "outputs": [
    {
     "data": {
      "text/plain": [
       "tensor([[-0.1016,  0.5238, -1.2643]])"
      ]
     },
     "execution_count": 130,
     "metadata": {},
     "output_type": "execute_result"
    }
   ],
   "source": [
    "torch.randn(1, 3)"
   ]
  },
  {
   "cell_type": "markdown",
   "metadata": {},
   "source": [
    "# ARIMA"
   ]
  },
  {
   "cell_type": "code",
   "execution_count": 13,
   "metadata": {},
   "outputs": [],
   "source": [
    "from statsmodels.tsa.arima_model import ARIMA\n",
    "from sklearn.metrics import mean_squared_error\n",
    "import matplotlib.pyplot as plt\n",
    "%matplotlib inline"
   ]
  },
  {
   "cell_type": "code",
   "execution_count": 57,
   "metadata": {},
   "outputs": [],
   "source": [
    "ts_model = ARIMA(train_data, order=(10,1,2))\n",
    "model_fit = ts_model.fit(disp=1)"
   ]
  },
  {
   "cell_type": "code",
   "execution_count": 60,
   "metadata": {},
   "outputs": [],
   "source": [
    "output = model_fit.forecast(30)"
   ]
  },
  {
   "cell_type": "code",
   "execution_count": 61,
   "metadata": {},
   "outputs": [
    {
     "data": {
      "text/plain": [
       "array([40.00481813, 40.44456762, 39.44145705, 40.78803082, 39.90521484,\n",
       "       40.74620073, 40.60504751, 40.29250247, 40.86828858, 40.08062559,\n",
       "       40.758916  , 40.33072566, 40.49031967, 40.65565264, 40.31724406,\n",
       "       40.69406677, 40.34570089, 40.53614005, 40.46048709, 40.4073987 ,\n",
       "       40.50987534, 40.37881527, 40.47516482, 40.38023025, 40.4291246 ,\n",
       "       40.36820852, 40.38955679, 40.36740046, 40.33325003, 40.3813737 ])"
      ]
     },
     "execution_count": 61,
     "metadata": {},
     "output_type": "execute_result"
    }
   ],
   "source": [
    "output[0]"
   ]
  },
  {
   "cell_type": "code",
   "execution_count": 63,
   "metadata": {},
   "outputs": [
    {
     "data": {
      "text/plain": [
       "[<matplotlib.lines.Line2D at 0x2192932b470>]"
      ]
     },
     "execution_count": 63,
     "metadata": {},
     "output_type": "execute_result"
    },
    {
     "data": {
      "image/png": "[encoded data removed]",
      "text/plain": [
       "<Figure size 432x288 with 1 Axes>"
      ]
     },
     "metadata": {
      "needs_background": "light"
     },
     "output_type": "display_data"
    }
   ],
   "source": [
    "plt.plot(close_price)\n",
    "plt.plot(np.arange(len(train_data),len(close_price)), output[0])"
   ]
  },
  {
   "cell_type": "code",
   "execution_count": 3,
   "metadata": {},
   "outputs": [],
   "source": [
    "import pmdarima as pmd"
   ]
  },
  {
   "cell_type": "code",
   "execution_count": 27,
   "metadata": {},
   "outputs": [],
   "source": [
    "model = pmd.auto_arima(train_data, start_p=1, start_q=1, test=\"adf\", seasonal=False, m=2)"
   ]
  },
  {
   "cell_type": "code",
   "execution_count": 30,
   "metadata": {},
   "outputs": [
    {
     "data": {
      "text/plain": [
       "[40.30133242627456,\n",
       " 40.74404572980792,\n",
       " 40.00190924012012,\n",
       " 40.82335365275737,\n",
       " 39.97652282068034,\n",
       " 40.71474936205969,\n",
       " 40.06659027407246,\n",
       " 40.548938775117115,\n",
       " 40.17080216550961,\n",
       " 40.39848627422099,\n",
       " 40.241822971077006,\n",
       " 40.289871847603486,\n",
       " 40.26917299661426,\n",
       " 40.22215565111592,\n",
       " 40.261158980974855,\n",
       " 40.182971645407406,\n",
       " 40.23167184660967,\n",
       " 40.15869614142469,\n",
       " 40.19292079593599,\n",
       " 40.13915465172613,\n",
       " 40.15282540560582,\n",
       " 40.11862107093276,\n",
       " 40.11515798292483,\n",
       " 40.09494253946674,\n",
       " 40.08081768054773,\n",
       " 40.0681206320723,\n",
       " 40.04921471623366,\n",
       " 40.039075680032916,\n",
       " 40.019296587125446,\n",
       " 40.00885075216709]"
      ]
     },
     "execution_count": 30,
     "metadata": {},
     "output_type": "execute_result"
    }
   ],
   "source": [
    "model.predict(30).tolist()"
   ]
  },
  {
   "cell_type": "code",
   "execution_count": 29,
   "metadata": {},
   "outputs": [
    {
     "data": {
      "text/plain": [
       "[<matplotlib.lines.Line2D at 0x212fe82ab00>]"
      ]
     },
     "execution_count": 29,
     "metadata": {},
     "output_type": "execute_result"
    },
    {
     "data": {
      "image/png": "[encoded data removed]",
      "text/plain": [
       "<Figure size 432x288 with 1 Axes>"
      ]
     },
     "metadata": {
      "needs_background": "light"
     },
     "output_type": "display_data"
    }
   ],
   "source": [
    "plt.plot(close_price)\n",
    "plt.plot(np.arange(len(train_data),len(close_price)), model.predict(30))"
   ]
  },
  {
   "cell_type": "code",
   "execution_count": null,
   "metadata": {},
   "outputs": [],
   "source": []
  }
 ],
 "metadata": {
  "kernelspec": {
   "display_name": "Python 3",
   "language": "python",
   "name": "python3"
  },
  "language_info": {
   "codemirror_mode": {
    "name": "ipython",
    "version": 3
   },
   "file_extension": ".py",
   "mimetype": "text/x-python",
   "name": "python",
   "nbconvert_exporter": "python",
   "pygments_lexer": "ipython3",
   "version": "3.7.0"
  }
 },
 "nbformat": 4,
 "nbformat_minor": 2
}
